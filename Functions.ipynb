{
  "nbformat": 4,
  "nbformat_minor": 0,
  "metadata": {
    "colab": {
      "provenance": []
    },
    "kernelspec": {
      "name": "python3",
      "display_name": "Python 3"
    },
    "language_info": {
      "name": "python"
    }
  },
  "cells": [
    {
      "cell_type": "code",
      "execution_count": null,
      "metadata": {
        "id": "rZv-ulpKIF38"
      },
      "outputs": [],
      "source": []
    },
    {
      "cell_type": "markdown",
      "source": [
        "  THEORY QUESTIONS\n",
        "   \n",
        "   Q.1 What is the difference between a function and a method in python?\n",
        "   - Function is a block of reusable code that performs a specific task. It can be defined independently and can be called by its name from anywhere in the code. its is defined by using the def keyword.\n",
        "\n",
        "   Method is essentially a function that is associated with an object. It is defined within a class and operates on instances of that class.Methods are always call on instance of the class\n",
        "\n",
        "   Q.2 Explain the concept of function arguments and parameters in Python.\n",
        "   - Parameters are the variables listed inside the parentheses in the function definition. They act as placeholders for the values that will be passed to the function when it is called.It allow functions to accept input data that can be used within the function's logic. They define the expected data types and the number of values that the function can handle.\n",
        "\n",
        "   Arguments are the actual values that are passed to a function when it is called. They are concrete data that fills the placeholders defined by the parameters.It provide the specific information that the function needs to perform its operations.\n",
        "\n",
        "   Q.3 What are the different ways to define and call a function in Python?\n",
        "   - We can define a function by using a def keyword. We can add any kind of properties to it as we require.The different ways of defining the functions are :1. Basic function -\n",
        "                            \n",
        "                            def greet():\n",
        "                              print (\"hello World\")\n",
        "                            greet()\n",
        "        2. Function with parameters -\n",
        "                                      def greet(name):\n",
        "                                        print(\"hello\", name)\n",
        "                                      greet(\"sir\")\n",
        "        3. Function with default parameters -\n",
        "                                              def greet(name=\"user\"):\n",
        "                                                print(\"hello,\" , name)\n",
        "                                              greet()\n",
        "                                              greet(\"bob\")\n",
        "\n",
        "\n",
        "        4.Function with return value -\n",
        "                                      def add(x,y):\n",
        "                                         return x+y\n",
        "                                       result = add(5,3)\n",
        "                                       print(result)\n",
        "        5. Function with key argument -\n",
        "                                        def greet(name,greeting = \"HELLO\"):\n",
        "                                          print(greeting,name)\n",
        "                                        greet(\"eve\", greeting=\"hii\")\n",
        "\n",
        "        6. function with variable number of arguments -\n",
        "\n",
        "        def sum_numbers(*args):\n",
        "           total = 0\n",
        "           for num in args:\n",
        "             total += num\n",
        "            return total                               \n",
        "   after creating a function in python you can called by using the name of the functions followed by the parenthesis containing parameters of the function.\n",
        "   The different ways of calling a function are -\n",
        "\n",
        "   1.direct call - function_name()\n",
        "   2. call with arguments - function_name(arg1,arg2,.....)\n",
        "   3.call with keyword arguments. - function_name(arg1= value1,arg2= value2.....)\n",
        "\n",
        "Q.4 What is the purpose of the return statement in a python function?\n",
        "- The return statement in Python serves two main purposes -\n",
        "1. Exiting the function : it immediately terminates the executions of the function,regardless of wheather there's more code in the function body.Controll is return to the point where the function was called.\n",
        "\n",
        "2. Returning a value : It sends a value back to the caller of the function. This value can then be used for further processing or calculations.\n",
        "\n",
        "Q.5 What are iterators in Python and How do they differ from iterables?\n",
        "- An iterables is basically an object that any user can iterate over.An iterators is also an object that helps a user in iterating over another object.We can generate an iterator when we pass the object to the iter() method. We use __next__() method for iterating.\n",
        "\n",
        "Q.6 Explain the concept of generators in Python and how they are defined?\n",
        "- Generators is a special type of function that allows you to create an iterable sequence of  values on the fly, rather than generating the function at once and storing them in memory. This makes generators partcularly useful for working with large datasets .\n",
        "Generators are defined using the yield keyword instead of the return keyword.When a generator function is called , it doesn't return a single value like a regular function. Insted it returns a generator object,which is an iterator.\n",
        "\n",
        "Q.7 What are the advantages of using generators over regular functions?\n",
        "- Generators have several advantages over regular functions, including:\n",
        "1.Memory efficiency :\n",
        "Generators are more memory efficient than regular functions because they only generate values as they are needed, rather than generating and storing all elements upfront. This is especially useful when working with large datasets or infinite sequences.\n",
        "\n",
        "2.Improved performance :\n",
        "Generators can improve performance by avoiding the need to generate and store all elements upfront. They can also be faster than regular loops, especially when working with large data sets.\n",
        "\n",
        "3.Lazy loading :\n",
        "Generators can be used to lazy load data, which means that the data is not loaded until it is actually needed. This can improve performance and reduce bandwidth usage.\n",
        "\n",
        "4.Composability :\n",
        "Generators can be easily composed to create new generators, enabling powerful data processing pipelines.\n",
        "\n",
        "5.Infinite sequences :\n",
        "Generators make it easy to create infinite sequences by allowing pausing and resuming. This is ideal for real-time data processing where data is constantly arriving.\n",
        "\n",
        "6.Streaming data processing :\n",
        "Generators can be used to process data as it arrives, such as reading characters from a file or receiving data from a network socket.\n",
        "\n",
        " Q.8 What is the lambd a function in python and when it is typically?\n",
        "\n",
        "- Python, a lambda function is a small, anonymous function that is used for short, simple operations:\n",
        "\n",
        "What it is:\n",
        "\n",
        "A lambda function is a function that is defined without a name and can take any number of arguments, but only evaluates and returns one expression.\n",
        "\n",
        "When to use it :\n",
        "\n",
        "Lambda functions are typically used for short, throwaway operations where a full function definition would be overkill. They are often used as arguments for built-in functions like filter(), map(), or reduce().\n",
        "\n",
        "How to use it :\n",
        "\n",
        "Lambda functions are defined using the lambda keyword and are directly integrated into lines of code. The syntax for a lambda function is lambda arguments : expression\n",
        "\n",
        "\n",
        "Q.9 Explain the purpose and usage of the map() function in Python.\n",
        "- The map() function in Python applies a function to each item in an iterable, such as a list or tuple, and returns a new iterable with the updated values. It's a built-in function that can be used to simplify iterative operations.\n",
        "Here are some examples of how to use the map() function:\n",
        "\n",
        "Removing whitespaces from strings: Use the map() function to apply the str.strip method to each string in a list to remove leading and trailing whitespaces.\n",
        "\n",
        "Accepting multiple inputs in a line: Use the map() and split functions to accept multiple integers in a single line.\n",
        "\n",
        "Converting temperatures: Use the map() function to convert temperatures from Celsius to Fahrenheit.\n",
        "\n",
        "The map() function is more concise and efficient than using a for loop to iterate through a list and apply a function to each item.\n",
        "\n",
        "Q.10 What is the difference between map(), reduce(), and filter() functions in Python?\n",
        "- In Python, the main difference between the map(), filter(), and reduce() functions is what they do with the elements of an iterable:\n",
        "\n",
        "map()\n",
        "\n",
        "Applies a function to each element of an iterable and returns a list of the results. For example, you can use map() to extract email addresses from a list of dictionaries.\n",
        "\n",
        "filter()\n",
        "\n",
        "Constructs a list from elements of an iterable that meet a specified condition. For example, you can use filter() to remove empty strings from a list.\n",
        "\n",
        "reduce()\n",
        "\n",
        "Applies a rolling computation to sequential pairs of values in a list and returns a single result. For example, you can use reduce() to multiply two numbers in consecutive fashion.\n"
      ],
      "metadata": {
        "id": "lGfprS8FILe_"
      }
    },
    {
      "cell_type": "code",
      "source": [
        "# @title Pratical Questions\n"
      ],
      "metadata": {
        "id": "3Gb-NFLWroMB"
      },
      "execution_count": null,
      "outputs": []
    },
    {
      "cell_type": "code",
      "source": [
        "# @title Q.1 write a Python function that takes a list of number as input and returns the sum of all even numbers in the list.\n",
        "list1 = [20,35,36,49,37,63]\n",
        "def even_sum(list1):\n",
        "  even_sum = 0\n",
        "  for i in list1 :\n",
        "    if i % 2 == 0 :\n",
        "      even_sum += i\n",
        "  return even_sum\n",
        "#call the function\n",
        "even_sum(list1)\n"
      ],
      "metadata": {
        "id": "chv686Ckryqp",
        "colab": {
          "base_uri": "https://localhost:8080/"
        },
        "outputId": "e71250d6-d73a-41a0-f8f6-a1bf51d3df46"
      },
      "execution_count": 16,
      "outputs": [
        {
          "output_type": "execute_result",
          "data": {
            "text/plain": [
              "56"
            ]
          },
          "metadata": {},
          "execution_count": 16
        }
      ]
    },
    {
      "cell_type": "code",
      "source": [
        "# @title Q.2 create a Python function that accepts a string and returns the reverse of that string.\n",
        "def reverse_string(input_string):\n",
        "  reversed_string = \"\"\n",
        "  for i in range(len(input_string) -1,-1,-1):\n",
        "    reversed_string +=input_string[i]\n",
        "  return reversed_string\n",
        "input_string = input(\"input_string : \")\n",
        "print(\"original string : \",input_string )\n",
        "reversed_string = reverse_string(input_string)\n",
        "print(\"reversed string : \" , reversed_string)"
      ],
      "metadata": {
        "colab": {
          "base_uri": "https://localhost:8080/"
        },
        "id": "lt7OXAJr-N5T",
        "outputId": "def8ac1e-66e1-40f0-e2df-9bece57f8b8f"
      },
      "execution_count": 22,
      "outputs": [
        {
          "output_type": "stream",
          "name": "stdout",
          "text": [
            "input_string : 1234\n",
            "original string :  1234\n",
            "reversed string :  4321\n"
          ]
        }
      ]
    },
    {
      "cell_type": "code",
      "source": [
        "# @title Q.3 implement a Python function that takes a list of integers and returns a new list containing the squares of each number.\n",
        "def square_integer(list):\n",
        "  new_list = []\n",
        "  for i in list:\n",
        "    new_list.append(i*i)\n",
        "  return(new_list)\n",
        "\n",
        "list4 = [1,2,3,4,5,6,7]\n",
        "square_integer(list4)"
      ],
      "metadata": {
        "colab": {
          "base_uri": "https://localhost:8080/"
        },
        "id": "C4M_oTCjEFMu",
        "outputId": "81ace95b-2995-4241-c658-3db4aad9dcc4"
      },
      "execution_count": 28,
      "outputs": [
        {
          "output_type": "execute_result",
          "data": {
            "text/plain": [
              "[1, 4, 9, 16, 25, 36, 49]"
            ]
          },
          "metadata": {},
          "execution_count": 28
        }
      ]
    },
    {
      "cell_type": "code",
      "source": [
        "# @title Q.4 Write a Python function that checks if a given number is prime or not.\n",
        "def prime_num(number):\n",
        "  if number <= 1:\n",
        "    return False\n",
        "  for i in range(2,int(number**0.5)+1):\n",
        "    if number % i == 0:\n",
        "      return False\n",
        "  return True\n",
        "\n",
        "num = int(input(\"enter number : \"))\n",
        "if prime_num(num):\n",
        "  print(num,\"is a prime number\")\n",
        "else:\n",
        "  print(num,\"is not a prime number\")\n",
        "\n"
      ],
      "metadata": {
        "colab": {
          "base_uri": "https://localhost:8080/"
        },
        "id": "yTETTkbDKMiX",
        "outputId": "c0af78a9-b4f0-42e6-80b7-59d5922233b2"
      },
      "execution_count": 39,
      "outputs": [
        {
          "output_type": "stream",
          "name": "stdout",
          "text": [
            "enter number : 86\n",
            "86 is not a prime number\n"
          ]
        }
      ]
    },
    {
      "cell_type": "code",
      "source": [
        "# @title Q.5 Create an iterator class in Python that generates the Fibonacci sequence upto a specified number of terms\n",
        "def fibonacci_sequence(n):\n",
        "  sequence = []\n",
        "  a,b = 0,1\n",
        "  while len(sequence) < num_terms:\n",
        "    sequence.append(a)\n",
        "    a,b = b,a+b\n",
        "  return sequence\n",
        "num_terms = int(input(\"enter number of terms ;\"))\n",
        "fibonacci_sequence(num_terms)"
      ],
      "metadata": {
        "colab": {
          "base_uri": "https://localhost:8080/"
        },
        "id": "rz7aZJHpik54",
        "outputId": "3e4cb0d8-3e4d-44cb-884e-0b5f1f72e299"
      },
      "execution_count": 41,
      "outputs": [
        {
          "name": "stdout",
          "output_type": "stream",
          "text": [
            "enter number of terms ;20\n"
          ]
        },
        {
          "output_type": "execute_result",
          "data": {
            "text/plain": [
              "[0,\n",
              " 1,\n",
              " 1,\n",
              " 2,\n",
              " 3,\n",
              " 5,\n",
              " 8,\n",
              " 13,\n",
              " 21,\n",
              " 34,\n",
              " 55,\n",
              " 89,\n",
              " 144,\n",
              " 233,\n",
              " 377,\n",
              " 610,\n",
              " 987,\n",
              " 1597,\n",
              " 2584,\n",
              " 4181]"
            ]
          },
          "metadata": {},
          "execution_count": 41
        }
      ]
    },
    {
      "cell_type": "code",
      "source": [
        "# @title Q.6 Write a generator function in python that yields the power of 2 up to a given exponent.\n",
        "def power_of_2_generators(expoent):\n",
        "  power  = 0\n",
        "  result = 1\n",
        "  while power <= exponent:\n",
        "    yield result\n",
        "    power += 1\n",
        "    result *= 2\n",
        "\n",
        "exponent = int(input('enter a number :'))\n",
        "power_of_2_generators(exponent)\n",
        "for value in power_of_2_generators(exponent):\n",
        "  print(value)"
      ],
      "metadata": {
        "colab": {
          "base_uri": "https://localhost:8080/"
        },
        "id": "Kjt81Knapj-Z",
        "outputId": "a409c614-d414-42d1-c033-5f849e41e497"
      },
      "execution_count": 49,
      "outputs": [
        {
          "output_type": "stream",
          "name": "stdout",
          "text": [
            "enter a number :6\n",
            "1\n",
            "2\n",
            "4\n",
            "8\n",
            "16\n",
            "32\n",
            "64\n"
          ]
        }
      ]
    },
    {
      "cell_type": "code",
      "source": [
        "# @title Q.8 Use a lambda function in Python to sort a list of tuples based on the second element of each tuple.\n",
        "my_list = [(1,2),(3,4),(5,6),(7,8)]\n",
        "sorted_list = sorted(my_list ,key = lambda x:x[1])\n",
        "print(sorted_list)"
      ],
      "metadata": {
        "colab": {
          "base_uri": "https://localhost:8080/"
        },
        "id": "84fwWICWvqAc",
        "outputId": "7e02074f-0c56-48e1-998c-f8e7d79d1bd7"
      },
      "execution_count": 51,
      "outputs": [
        {
          "output_type": "stream",
          "name": "stdout",
          "text": [
            "[(1, 2), (3, 4), (5, 6), (7, 8)]\n"
          ]
        }
      ]
    }
  ]
}